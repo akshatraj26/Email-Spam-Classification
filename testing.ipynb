{
 "cells": [
  {
   "cell_type": "markdown",
   "metadata": {},
   "source": [
    "# Spam Email Classification Testing"
   ]
  },
  {
   "cell_type": "markdown",
   "metadata": {},
   "source": [
    "## Load the Dependencies"
   ]
  },
  {
   "cell_type": "code",
   "execution_count": 1,
   "metadata": {},
   "outputs": [],
   "source": [
    "import joblib\n",
    "from fastapi import FastAPI\n",
    "from pydantic import BaseModel\n",
    "import os\n",
    "from glob import glob\n",
    "import nltk\n",
    "from nltk.stem import PorterStemmer\n",
    "from nltk.corpus import stopwords\n"
   ]
  },
  {
   "cell_type": "code",
   "execution_count": 2,
   "metadata": {},
   "outputs": [],
   "source": [
    "encoders = glob(\"encoder_vectorizer/**\")\n",
    "models = glob('models/**')\n",
    "\n",
    "optimal_mn = models[3]\n",
    "tfidf = encoders[1]\n",
    "encoder = encoders[0]\n",
    "\n",
    "model = joblib.load(optimal_mn)\n",
    "tfidf = joblib.load(encoders[1])\n",
    "encoder = joblib.load(encoders[0])"
   ]
  },
  {
   "cell_type": "markdown",
   "metadata": {},
   "source": [
    "## Preprocess the text"
   ]
  },
  {
   "cell_type": "code",
   "execution_count": 3,
   "metadata": {},
   "outputs": [],
   "source": [
    "def preprocess_text(text):\n",
    "    text = text.lower()\n",
    "    text = nltk.word_tokenize(text)\n",
    "    text = [word for word in text if word.isalnum()]\n",
    "    ps = PorterStemmer()\n",
    "    stop_words = stopwords.words('english')\n",
    "    text = [ps.stem(word) for word in text if not word in stop_words]\n",
    "    text = \" \".join(text)\n",
    "    \n",
    "    return text\n",
    "\n",
    "def predictions(clean_text):\n",
    "    vectorizer = tfidf.transform([clean_text])\n",
    "    predictions = model.predict(vectorizer)\n",
    "    label = encoder.inverse_transform(predictions)\n",
    "    return label"
   ]
  },
  {
   "cell_type": "code",
   "execution_count": 4,
   "metadata": {},
   "outputs": [],
   "source": [
    "text = \"\"\"\n",
    "\n",
    "MAY 20 – 24, 2024\n",
    "\n",
    "Exnova’s Market Recap\n",
    "\n",
    "Hi 👋\n",
    "\n",
    "We’re here with all the top news of the week!\n",
    "\n",
    "Haven’t heard about the latest at Exnova? Jump into any of our available tournaments and start earning more today! Whether you're a beginner or a seasoned pro, there’s a challenge waiting for you. Don’t miss out on the chance to elevate your game and claim exciting rewards!\n",
    "\n",
    "Choose the tournament\n",
    "#Asset of the Week\n",
    "\n",
    "AMC Entertainment Holdings, Inc.\n",
    "\n",
    "AMC\n",
    "\n",
    "$4.861\n",
    "\n",
    "AMC Entertainment witnessed a notable surge, outpacing many during the latest meme stock frenzy. The cinema giant's shares soared as retail investors rallied, driven by social media hype. This movement highlights the growing influence of retail investment groups in shaping market trends. Stay tuned for further updates on this evolving story.\n",
    "\n",
    "Trade now\n",
    " \n",
    "#Markets\n",
    "\n",
    "🇺🇸\n",
    "\n",
    "12:30 (GMT) – Durable Goods Orders MoM\n",
    "\n",
    "May 24, 2024\n",
    "\n",
    "Attention traders! Don’t miss the upcoming release of the Month-over-Month Durable Goods Orders. This key economic indicator, reflecting consumer and business purchasing trends, can significantly influence the market. Major impacts are expected on currency pairs such as EUR/USD, USD/JPY, USD/CAD, and GBP/USD. A higher than expected result could boost the dollar, whereas a decrease may weaken it. Keep your strategies ready for this critical economic update.\n",
    "\n",
    "Open the platform\n",
    " \n",
    "#Stocks\n",
    "\n",
    "📈\n",
    "\n",
    "After-Hours – Autodesk, Inc.\n",
    "\n",
    "May 23, 2024\n",
    "\n",
    "Autodesk, Inc. is set to release its Q1 2024 earnings on May 23, after market close. Prepare for potential market movements as investors react to the financial outcomes. This is a crucial time for both seasoned investors and those new to the stock market to adjust their trading approaches. Stay alert and poised to leverage the opportunities that arise from Autodesk's earnings announcement.\n",
    "\n",
    "Trade on Stocks\n",
    " \n",
    "#Crypto\n",
    "\n",
    "🪙\n",
    "\n",
    "All Day – Bitcoin Pizza Day\n",
    "\n",
    "May 24, 2024\n",
    "\n",
    "Get ready for Bitcoin Pizza Day 2024, celebrating the iconic purchase that marked the first commercial transaction using Bitcoin. This event often stirs excitement and activity within the crypto community, potentially leading to noticeable market shifts. Whether you’re deeply involved in cryptocurrencies or just starting out, this day offers a unique opportunity to engage with the market dynamics sparked by this historical event. Be prepared for action and capitalize on the trading possibilities that emerge.\n",
    "\n",
    "Trade on Crypto\n",
    " \n",
    "\n",
    "Simple as a casino, fun as a bet \n",
    "\n",
    "Try Blitz Options now and double your profit in 5 sec!\n",
    "\n",
    "Try Blitz Options\n",
    " \n",
    "Thanks for your attention!\n",
    "\n",
    "This concludes our weekly recap. Have a fantastic weekend and see you next week.\n",
    "\n",
    "Open Traderoom\n",
    "  \n",
    "General Risk Warning: The financial products offered by the company carry a high level of risk and can result in the loss of all your funds. You should never invest money that you cannot afford to lose.\n",
    "\n",
    "Lighthouse Trust Nevis Ltd, Suite 1, A.L. Evelyn Ltd Building, Main Street, Charlestown, Nevis\n",
    "\n",
    "Terms and ConditionsUnsubscribe\n",
    "\n",
    "\"\"\"\n"
   ]
  },
  {
   "cell_type": "code",
   "execution_count": 5,
   "metadata": {},
   "outputs": [
    {
     "data": {
      "text/plain": [
       "array(['ham'], dtype=object)"
      ]
     },
     "execution_count": 5,
     "metadata": {},
     "output_type": "execute_result"
    }
   ],
   "source": [
    "clean_text = preprocess_text(text)\n",
    "predictions(clean_text)"
   ]
  },
  {
   "cell_type": "code",
   "execution_count": null,
   "metadata": {},
   "outputs": [],
   "source": [
    "text = \"\"\"\n",
    "Hi Akshat,\n",
    "\n",
    "Ready to boost your confidence? Join a conversation that can make a difference today. Choose a time that suits you, and let's get started on your journey to newfound confidence!\n",
    "\n",
    "PICK A CARD BELOW 👇\n",
    "\n",
    "\n",
    "\n",
    "\n",
    "\n",
    "\n",
    "NOTE: save an additional ₹500 with a special one day offer. Apply coupon code SAVE500\n",
    "LinkedIn\tInstagram\tTwitter\tFacebook\n",
    "To unsubscribe from this mailing list, tap here\n",
    "\n",
    "\n",
    "\n",
    "\"\"\""
   ]
  },
  {
   "cell_type": "code",
   "execution_count": 6,
   "metadata": {},
   "outputs": [
    {
     "data": {
      "text/plain": [
       "array(['ham'], dtype=object)"
      ]
     },
     "execution_count": 6,
     "metadata": {},
     "output_type": "execute_result"
    }
   ],
   "source": [
    "clean_text = preprocess_text(text)\n",
    "predictions(clean_text)"
   ]
  },
  {
   "cell_type": "code",
   "execution_count": 7,
   "metadata": {},
   "outputs": [],
   "source": [
    "text = \"\"\"\n",
    "\n",
    " \t\n",
    " \n",
    "We've not seen you for a day. Remember, keep up the good work! 5 minutes a day goes a long way.\n",
    " \n",
    " \n",
    "Have a little walk around town and learn something new today. Pick up some street food, get a night cap or say hi to some new friends.\n",
    " \n",
    "START LESSON\n",
    "\n",
    " \n",
    " \n",
    "\t\n",
    "Not right now?\n",
    " \n",
    "Let us know why so we can design a better experience for you.\n",
    " \n",
    " \t\n",
    "TELL US WHY\n",
    " \n",
    " \n",
    "Linked in LinkedIn\n",
    " \n",
    "Facebook Facebook\n",
    " \n",
    "Twitter Twitter\n",
    " \n",
    "Instagram Instagram\n",
    "Copyright 2022 golingo Ltd. All rights reserved\n",
    "71-75 Sheldon Street, Covent Garden, London, WC2H 9JQ, United Kingdom\n",
    "You are receiving this email because you are subscribed to golingo learning reminders.\n",
    "To be removed from golingo learning reminders, you can unsubscribe here\n",
    "You can update your settings anytime in your preferences here\n",
    "\n",
    " \n",
    " \n",
    "\n",
    "\"\"\""
   ]
  },
  {
   "cell_type": "code",
   "execution_count": 8,
   "metadata": {},
   "outputs": [
    {
     "data": {
      "text/plain": [
       "array(['ham'], dtype=object)"
      ]
     },
     "execution_count": 8,
     "metadata": {},
     "output_type": "execute_result"
    }
   ],
   "source": [
    "clean_text = preprocess_text(text)\n",
    "predictions(clean_text)"
   ]
  },
  {
   "cell_type": "code",
   "execution_count": null,
   "metadata": {},
   "outputs": [],
   "source": []
  }
 ],
 "metadata": {
  "kernelspec": {
   "display_name": ".env",
   "language": "python",
   "name": "python3"
  },
  "language_info": {
   "codemirror_mode": {
    "name": "ipython",
    "version": 3
   },
   "file_extension": ".py",
   "mimetype": "text/x-python",
   "name": "python",
   "nbconvert_exporter": "python",
   "pygments_lexer": "ipython3",
   "version": "3.12.2"
  }
 },
 "nbformat": 4,
 "nbformat_minor": 2
}
